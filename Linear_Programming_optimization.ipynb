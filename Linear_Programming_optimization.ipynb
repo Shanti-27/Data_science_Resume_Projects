{
  "nbformat": 4,
  "nbformat_minor": 0,
  "metadata": {
    "colab": {
      "provenance": []
    },
    "kernelspec": {
      "name": "python3",
      "display_name": "Python 3"
    },
    "language_info": {
      "name": "python"
    }
  },
  "cells": [
    {
      "cell_type": "code",
      "execution_count": 1,
      "metadata": {
        "id": "9f4Lbtum1M3n"
      },
      "outputs": [],
      "source": [
        "# Lets consider the following problem statement"
      ]
    },
    {
      "cell_type": "code",
      "source": [
        "# Let's consider the following problem\n",
        "# Pillow manufacturing - two types - mixed of feathers and cotton\n",
        "# 1) Product A takes 300gm of feather while it takes 500gm of cotton\n",
        "# 2) Product B take 500gm of feather and 500gm cotton\n",
        "\n",
        "# Your available supply for \"feather and cotton\" are 20 and 35 kg for both product A & B respectively\n",
        "\n",
        "# The profit for one pillow of A is 25 USD while the profit of pillow of B is 35USD,\n",
        "# How much units should we produce to maximize profit ?"
      ],
      "metadata": {
        "id": "uOzxxGf51ax3"
      },
      "execution_count": 3,
      "outputs": []
    },
    {
      "cell_type": "code",
      "source": [
        "ProductA =25 # $25\n",
        "ProductB =35 # $35\n",
        "\n",
        "# #0.3*x1 + 0.5*x2 <=20\n",
        "# 0.5*x1 +0.5*x2 <=35"
      ],
      "metadata": {
        "id": "gncG0-5j1l_K"
      },
      "execution_count": 18,
      "outputs": []
    },
    {
      "cell_type": "code",
      "source": [
        "!pip install pulp"
      ],
      "metadata": {
        "colab": {
          "base_uri": "https://localhost:8080/"
        },
        "id": "0brYmGGL4I5y",
        "outputId": "098648fd-42bf-42a2-aef1-844727f8d36e"
      },
      "execution_count": 5,
      "outputs": [
        {
          "output_type": "stream",
          "name": "stdout",
          "text": [
            "Collecting pulp\n",
            "  Downloading PuLP-2.7.0-py3-none-any.whl (14.3 MB)\n",
            "\u001b[2K     \u001b[90m━━━━━━━━━━━━━━━━━━━━━━━━━━━━━━━━━━━━━━━━\u001b[0m \u001b[32m14.3/14.3 MB\u001b[0m \u001b[31m81.4 MB/s\u001b[0m eta \u001b[36m0:00:00\u001b[0m\n",
            "\u001b[?25hInstalling collected packages: pulp\n",
            "Successfully installed pulp-2.7.0\n"
          ]
        }
      ]
    },
    {
      "cell_type": "code",
      "source": [
        "from pulp import *"
      ],
      "metadata": {
        "id": "qbYhNh684OPz"
      },
      "execution_count": 6,
      "outputs": []
    },
    {
      "cell_type": "code",
      "source": [
        "model=LpProblem(\"pillows\",LpMaximize)\n",
        "model"
      ],
      "metadata": {
        "colab": {
          "base_uri": "https://localhost:8080/"
        },
        "id": "KPghvERx4mhs",
        "outputId": "ef2eaf7c-0507-49fb-9909-10457921b863"
      },
      "execution_count": 7,
      "outputs": [
        {
          "output_type": "execute_result",
          "data": {
            "text/plain": [
              "pillows:\n",
              "MAXIMIZE\n",
              "None\n",
              "VARIABLES"
            ]
          },
          "metadata": {},
          "execution_count": 7
        }
      ]
    },
    {
      "cell_type": "code",
      "source": [
        "X1=LpVariable(\"X1\",0,None,'Integer')\n",
        "X2=LpVariable(\"X2\",0,None,'Integer')"
      ],
      "metadata": {
        "id": "eaMxpffx4ylW"
      },
      "execution_count": 8,
      "outputs": []
    },
    {
      "cell_type": "code",
      "source": [
        "model += X1*25 + X2*35"
      ],
      "metadata": {
        "id": "K3jzwuEC5C63"
      },
      "execution_count": 9,
      "outputs": []
    },
    {
      "cell_type": "code",
      "source": [
        "model"
      ],
      "metadata": {
        "colab": {
          "base_uri": "https://localhost:8080/"
        },
        "id": "uKc0mRTp5JZ_",
        "outputId": "66639006-0038-4e2b-9b73-3e5f37356346"
      },
      "execution_count": 10,
      "outputs": [
        {
          "output_type": "execute_result",
          "data": {
            "text/plain": [
              "pillows:\n",
              "MAXIMIZE\n",
              "25*X1 + 35*X2 + 0\n",
              "VARIABLES\n",
              "0 <= X1 Integer\n",
              "0 <= X2 Integer"
            ]
          },
          "metadata": {},
          "execution_count": 10
        }
      ]
    },
    {
      "cell_type": "code",
      "source": [
        "model += X1*0.3 + X2*0.5 <=20"
      ],
      "metadata": {
        "id": "2BCX0WES5KlY"
      },
      "execution_count": 11,
      "outputs": []
    },
    {
      "cell_type": "code",
      "source": [
        "model"
      ],
      "metadata": {
        "colab": {
          "base_uri": "https://localhost:8080/"
        },
        "id": "g30ZpI7w5V0h",
        "outputId": "89ad019e-bce8-4e86-8829-cfc1a12001fc"
      },
      "execution_count": 12,
      "outputs": [
        {
          "output_type": "execute_result",
          "data": {
            "text/plain": [
              "pillows:\n",
              "MAXIMIZE\n",
              "25*X1 + 35*X2 + 0\n",
              "SUBJECT TO\n",
              "_C1: 0.3 X1 + 0.5 X2 <= 20\n",
              "\n",
              "VARIABLES\n",
              "0 <= X1 Integer\n",
              "0 <= X2 Integer"
            ]
          },
          "metadata": {},
          "execution_count": 12
        }
      ]
    },
    {
      "cell_type": "code",
      "source": [
        "model += X1*0.5 + X2*0.5 <=35"
      ],
      "metadata": {
        "id": "2wf6Rrpi5Xba"
      },
      "execution_count": 13,
      "outputs": []
    },
    {
      "cell_type": "code",
      "source": [
        "model.solve()"
      ],
      "metadata": {
        "colab": {
          "base_uri": "https://localhost:8080/"
        },
        "id": "3J2yLo275fKw",
        "outputId": "fba225c3-8f8e-4386-a751-bf74a08615dc"
      },
      "execution_count": 14,
      "outputs": [
        {
          "output_type": "execute_result",
          "data": {
            "text/plain": [
              "1"
            ]
          },
          "metadata": {},
          "execution_count": 14
        }
      ]
    },
    {
      "cell_type": "code",
      "source": [
        "X1.varValue"
      ],
      "metadata": {
        "colab": {
          "base_uri": "https://localhost:8080/"
        },
        "id": "F3JNJuWS5kyU",
        "outputId": "b15e48b1-0b87-4b8b-d2b2-9e345759130e"
      },
      "execution_count": 15,
      "outputs": [
        {
          "output_type": "execute_result",
          "data": {
            "text/plain": [
              "65.0"
            ]
          },
          "metadata": {},
          "execution_count": 15
        }
      ]
    },
    {
      "cell_type": "code",
      "source": [
        "X2.varValue"
      ],
      "metadata": {
        "colab": {
          "base_uri": "https://localhost:8080/"
        },
        "id": "myn0Fdgl5oAc",
        "outputId": "b1c4ce43-e89e-42bf-a358-a5bc81905217"
      },
      "execution_count": 16,
      "outputs": [
        {
          "output_type": "execute_result",
          "data": {
            "text/plain": [
              "1.0"
            ]
          },
          "metadata": {},
          "execution_count": 16
        }
      ]
    },
    {
      "cell_type": "code",
      "source": [
        "max_profit = ProductA*X1.varValue + ProductB*X2.varValue"
      ],
      "metadata": {
        "id": "NXLRUpNh5rUb"
      },
      "execution_count": 19,
      "outputs": []
    },
    {
      "cell_type": "code",
      "source": [
        "max_profit"
      ],
      "metadata": {
        "colab": {
          "base_uri": "https://localhost:8080/"
        },
        "id": "n31TqyAA55YN",
        "outputId": "815aa5d6-3976-4795-d841-db93efeca0d0"
      },
      "execution_count": 20,
      "outputs": [
        {
          "output_type": "execute_result",
          "data": {
            "text/plain": [
              "1660.0"
            ]
          },
          "metadata": {},
          "execution_count": 20
        }
      ]
    },
    {
      "cell_type": "code",
      "source": [],
      "metadata": {
        "id": "NfTU2l7t6FE2"
      },
      "execution_count": null,
      "outputs": []
    }
  ]
}